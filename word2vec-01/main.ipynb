{
 "cells": [
  {
   "cell_type": "markdown",
   "metadata": {},
   "source": [
    "# Word2vec 的预训练模型使用"
   ]
  },
  {
   "cell_type": "code",
   "execution_count": 2,
   "metadata": {},
   "outputs": [],
   "source": [
    "from gensim.models import KeyedVectors\n",
    "\n",
    "# 加载 2 种不同格式的模型\n",
    "word_vector1 = KeyedVectors.load_word2vec_format(\n",
    "    \"./.models/GoogleNews-vectors-negative300.bin.gz\", binary=True\n",
    ")\n",
    "word_vector2 = KeyedVectors.load('./.models/word2vec-google-news-300.model')"
   ]
  },
  {
   "cell_type": "code",
   "execution_count": null,
   "metadata": {},
   "outputs": [
    {
     "name": "stdout",
     "output_type": "stream",
     "text": [
      "<class 'numpy.ndarray'> [-0.01446533 -0.12792969 -0.11572266 -0.22167969 -0.07373047]\n",
      "<class 'numpy.ndarray'> [-0.01446533 -0.12792969 -0.11572266 -0.22167969 -0.07373047]\n",
      "True\n"
     ]
    }
   ],
   "source": [
    "# 词嵌入，获取向量\n",
    "word = \"phone\"\n",
    "vector1 = word_vector1[word]\n",
    "vector2 = word_vector2[word]\n",
    "print(type(vector1), vector1[:5])\n",
    "print(type(vector2), vector2[:5])\n",
    "print((vector1 == vector2).all())"
   ]
  },
  {
   "cell_type": "code",
   "execution_count": 12,
   "metadata": {},
   "outputs": [
    {
     "name": "stdout",
     "output_type": "stream",
     "text": [
      "0.863584\n",
      "apple vs phone : 0.13439192\n",
      "apple vs banana : 0.5318406\n",
      "[('telephone', 0.8224020600318909), ('cell_phone', 0.7831966876983643), ('cellphone', 0.7629483938217163)]\n"
     ]
    }
   ],
   "source": [
    "# Gensim 其他常用的方法\n",
    "word1 = \"apple\"\n",
    "word2 = \"banana\"\n",
    "word_list1 = [\"i\", \"eat\", \"apple\"]\n",
    "word_list2 = [\"i\", \"eat\", \"banana\"]\n",
    "\n",
    "# Compute cosine similarity between two sets of words.\n",
    "# 计算两列单词之间的余弦相似度——也可以用来评估文本之间的相似度\n",
    "print(word_vector2.n_similarity(word_list1, word_list2))\n",
    "\n",
    "# Compute cosine similarity between two words.\n",
    "# 计算2个词之间的余弦相似度\n",
    "print(word1, \"vs\", word, \":\", word_vector2.similarity(word1, word))\n",
    "print(word1, \"vs\", word2, \":\", word_vector2.similarity(word1, word2))\n",
    "\n",
    "# 找出前N个最相似的词\n",
    "print(word_vector2.similar_by_word(word, topn=3))"
   ]
  }
 ],
 "metadata": {
  "kernelspec": {
   "display_name": ".venv",
   "language": "python",
   "name": "python3"
  },
  "language_info": {
   "codemirror_mode": {
    "name": "ipython",
    "version": 3
   },
   "file_extension": ".py",
   "mimetype": "text/x-python",
   "name": "python",
   "nbconvert_exporter": "python",
   "pygments_lexer": "ipython3",
   "version": "3.11.6"
  }
 },
 "nbformat": 4,
 "nbformat_minor": 2
}
